{
  "nbformat": 4,
  "nbformat_minor": 0,
  "metadata": {
    "colab": {
      "provenance": [],
      "authorship_tag": "ABX9TyN0ivrgRbC0kzit/H6ma5go",
      "include_colab_link": true
    },
    "kernelspec": {
      "name": "python3",
      "display_name": "Python 3"
    },
    "language_info": {
      "name": "python"
    }
  },
  "cells": [
    {
      "cell_type": "markdown",
      "metadata": {
        "id": "view-in-github",
        "colab_type": "text"
      },
      "source": [
        "<a href=\"https://colab.research.google.com/github/faizannaseerr/Hackkk/blob/main/LinkUsML.ipynb\" target=\"_parent\"><img src=\"https://colab.research.google.com/assets/colab-badge.svg\" alt=\"Open In Colab\"/></a>"
      ]
    },
    {
      "cell_type": "code",
      "execution_count": 2,
      "metadata": {
        "id": "KmMPy29R4JXZ"
      },
      "outputs": [],
      "source": [
        "import pandas as pd\n",
        "import numpy as np\n",
        "from sklearn.neural_network import MLPClassifier\n",
        "from sklearn.preprocessing import MultiLabelBinarizer\n",
        "from sklearn.model_selection import train_test_split\n",
        "\n",
        "df = pd.read_excel('/content/Skills.xlsx')"
      ]
    },
    {
      "cell_type": "code",
      "source": [
        "JTArray = df['Title'].to_numpy()\n",
        "SSArray = df['Element Name'].to_numpy()\n",
        "SIDArr = df['Scale ID'].to_numpy()\n",
        "IVArray = df['Data Value'].to_numpy()\n",
        "print(JTArray[:20])  \n",
        "print(SSArray[:20])"
      ],
      "metadata": {
        "colab": {
          "base_uri": "https://localhost:8080/"
        },
        "id": "KIDhs5Ix56Pp",
        "outputId": "25035ec6-5d65-4a9e-c3ca-8ba56eb65ff6"
      },
      "execution_count": 3,
      "outputs": [
        {
          "output_type": "stream",
          "name": "stdout",
          "text": [
            "['Chief Executives' 'Chief Executives' 'Chief Executives'\n",
            " 'Chief Executives' 'Chief Executives' 'Chief Executives'\n",
            " 'Chief Executives' 'Chief Executives' 'Chief Executives'\n",
            " 'Chief Executives' 'Chief Executives' 'Chief Executives'\n",
            " 'Chief Executives' 'Chief Executives' 'Chief Executives'\n",
            " 'Chief Executives' 'Chief Executives' 'Chief Executives'\n",
            " 'Chief Executives' 'Chief Executives']\n",
            "['Reading Comprehension' 'Reading Comprehension' 'Active Listening'\n",
            " 'Active Listening' 'Writing' 'Writing' 'Speaking' 'Speaking'\n",
            " 'Mathematics' 'Mathematics' 'Science' 'Science' 'Critical Thinking'\n",
            " 'Critical Thinking' 'Active Learning' 'Active Learning'\n",
            " 'Learning Strategies' 'Learning Strategies' 'Monitoring' 'Monitoring']\n"
          ]
        }
      ]
    },
    {
      "cell_type": "code",
      "source": [
        "print(len(JTArray))\n",
        "print(len(SSArray))"
      ],
      "metadata": {
        "colab": {
          "base_uri": "https://localhost:8080/"
        },
        "id": "IKT8-ZFo419V",
        "outputId": "391e0136-1f27-4d6c-e74d-c16c84ae13a1"
      },
      "execution_count": 4,
      "outputs": [
        {
          "output_type": "stream",
          "name": "stdout",
          "text": [
            "61110\n",
            "61110\n"
          ]
        }
      ]
    },
    {
      "cell_type": "code",
      "source": [
        "i = 1\n",
        "while len(JTArray) != 61110/2:\n",
        "    JTArray = np.delete(JTArray, i)\n",
        "    SSArray = np.delete(SSArray, i)\n",
        "    SIDArr = np.delete(SIDArr, i)\n",
        "    IVArray = np.delete(IVArray, i)\n",
        "    i += 1"
      ],
      "metadata": {
        "id": "CHzAZzFx6agf"
      },
      "execution_count": 5,
      "outputs": []
    },
    {
      "cell_type": "code",
      "source": [
        "print(JTArray[:20])  \n",
        "print(SSArray[:36])\n",
        "print(SIDArr[0:20])\n",
        "print(IVArray[0:20])\n",
        "print(IVArray[0])\n",
        "print(len(IVArray))\n",
        "print(len(JTArray))\n",
        "print(len(SSArray))\n",
        "print(len(IVArray))"
      ],
      "metadata": {
        "colab": {
          "base_uri": "https://localhost:8080/"
        },
        "id": "ClELuByhKQwC",
        "outputId": "d23fdcd3-4fa5-4dd0-fe6b-58894c85cacd"
      },
      "execution_count": 18,
      "outputs": [
        {
          "output_type": "stream",
          "name": "stdout",
          "text": [
            "['Chief Executives' 'Chief Executives' 'Chief Executives'\n",
            " 'Chief Executives' 'Chief Executives' 'Chief Executives'\n",
            " 'Chief Executives' 'Chief Executives' 'Chief Executives'\n",
            " 'Chief Executives' 'Chief Executives' 'Chief Executives'\n",
            " 'Chief Executives' 'Chief Executives' 'Chief Executives'\n",
            " 'Chief Executives' 'Chief Executives' 'Chief Executives'\n",
            " 'Chief Executives' 'Chief Executives']\n",
            "['Reading Comprehension' 'Active Listening' 'Writing' 'Speaking'\n",
            " 'Mathematics' 'Science' 'Critical Thinking' 'Active Learning'\n",
            " 'Learning Strategies' 'Monitoring' 'Social Perceptiveness' 'Coordination'\n",
            " 'Persuasion' 'Negotiation' 'Instructing' 'Service Orientation'\n",
            " 'Complex Problem Solving' 'Operations Analysis' 'Technology Design'\n",
            " 'Equipment Selection' 'Installation' 'Programming'\n",
            " 'Operations Monitoring' 'Operation and Control' 'Equipment Maintenance'\n",
            " 'Troubleshooting' 'Repairing' 'Quality Control Analysis'\n",
            " 'Judgment and Decision Making' 'Systems Analysis' 'Systems Evaluation'\n",
            " 'Time Management' 'Management of Financial Resources'\n",
            " 'Management of Material Resources' 'Management of Personnel Resources'\n",
            " 'Reading Comprehension']\n",
            "['IM' 'IM' 'IM' 'IM' 'IM' 'IM' 'IM' 'IM' 'IM' 'IM' 'IM' 'IM' 'IM' 'IM'\n",
            " 'IM' 'IM' 'IM' 'IM' 'IM' 'IM']\n",
            "[4.12 4.12 4.   4.38 3.25 1.88 4.38 4.   3.12 4.12 4.25 4.25 4.12 4.12\n",
            " 3.12 3.12 4.38 3.12 1.75 1.12]\n",
            "4.12\n",
            "30555\n",
            "30555\n",
            "30555\n",
            "30555\n"
          ]
        }
      ]
    },
    {
      "cell_type": "code",
      "source": [
        "DictJtoS = {}\n",
        "for i in range (len(IVArray)):\n",
        "  if IVArray[i] >= 3.0:\n",
        "    if JTArray[i] not in DictJtoS:\n",
        "      DictJtoS[JTArray[i]] = [SSArray[i]]\n",
        "    else:\n",
        "      DictJtoS[JTArray[i]].append(SSArray[i])\n",
        "print(len(DictJtoS))\n",
        "for i in range (len(JTArray)):\n",
        "  if JTArray[i] not in DictJtoS:\n",
        "    DictJtoS[JTArray[i]] = []\n",
        "print(len(DictJtoS))"
      ],
      "metadata": {
        "colab": {
          "base_uri": "https://localhost:8080/"
        },
        "id": "tnR4qYNWMhRu",
        "outputId": "924e1be7-6576-469e-a0ff-c5e55338e917"
      },
      "execution_count": 17,
      "outputs": [
        {
          "output_type": "stream",
          "name": "stdout",
          "text": [
            "863\n",
            "873\n"
          ]
        }
      ]
    },
    {
      "cell_type": "code",
      "source": [
        "print(DictJtoS.get('Helpers--Painters, Paperhangers, Plasterers, and Stucco Masons'))"
      ],
      "metadata": {
        "colab": {
          "base_uri": "https://localhost:8080/"
        },
        "id": "8U5iCQiqQlLh",
        "outputId": "6ea4ff67-d3d6-463f-c268-bdff6c295d24"
      },
      "execution_count": 8,
      "outputs": [
        {
          "output_type": "stream",
          "name": "stdout",
          "text": [
            "['Speaking', 'Coordination']\n"
          ]
        }
      ]
    },
    {
      "cell_type": "code",
      "source": [
        "InputtedSS = ['Speaking', 'Coordination']\n",
        "InputtedSSCopy = InputtedSS\n",
        "SuggestedJobs = []\n",
        "R = 100\n",
        "Ranking = []\n",
        "while len(SuggestedJobs) != 5:\n",
        "  for key in DictJtoS:\n",
        "    if sorted(DictJtoS[key]) == sorted(InputtedSSCopy):\n",
        "      if key not in SuggestedJobs:\n",
        "        print(key)\n",
        "        SuggestedJobs.append(key)\n",
        "        Ranking.append(R)\n",
        "  if len(SuggestedJobs) > 5:\n",
        "    while len(SuggestedJobs) != 5:\n",
        "      SuggestedJobs.pop()\n",
        "      Ranking.pop()      \n",
        "  if len(InputtedSSCopy) == 0:\n",
        "    break\n",
        "  InputtedSSCopy.pop()\n",
        "  R = R - 5\n",
        "  \n",
        "  print(R)\n"
      ],
      "metadata": {
        "colab": {
          "base_uri": "https://localhost:8080/"
        },
        "id": "JR2E9pV0NhQ2",
        "outputId": "8540d9e5-0d65-4db6-dddf-6563469157a8"
      },
      "execution_count": 46,
      "outputs": [
        {
          "output_type": "stream",
          "name": "stdout",
          "text": [
            "Helpers--Painters, Paperhangers, Plasterers, and Stucco Masons\n",
            "95\n",
            "90\n",
            "Dishwashers\n",
            "Models\n",
            "Graders and Sorters, Agricultural Products\n",
            "Tapers\n",
            "Helpers--Pipelayers, Plumbers, Pipefitters, and Steamfitters\n",
            "Slaughterers and Meat Packers\n",
            "Cutters and Trimmers, Hand\n",
            "Painting, Coating, and Decorating Workers\n",
            "Helpers--Production Workers\n",
            "Laborers and Freight, Stock, and Material Movers, Hand\n"
          ]
        }
      ]
    },
    {
      "cell_type": "code",
      "source": [
        "print(Ranking)\n",
        "print(SuggestedJobs)\n",
        "for key in DictJtoS:\n",
        "  if DictJtoS[key] == []:\n",
        "    print(key)\n",
        "print('done')"
      ],
      "metadata": {
        "colab": {
          "base_uri": "https://localhost:8080/"
        },
        "id": "NrMNof1XP-F0",
        "outputId": "b857de60-fe0c-414a-f376-b49d14a2d344"
      },
      "execution_count": 47,
      "outputs": [
        {
          "output_type": "stream",
          "name": "stdout",
          "text": [
            "[100, 90, 90, 90, 90]\n",
            "['Helpers--Painters, Paperhangers, Plasterers, and Stucco Masons', 'Dishwashers', 'Models', 'Graders and Sorters, Agricultural Products', 'Tapers']\n",
            "Dishwashers\n",
            "Models\n",
            "Graders and Sorters, Agricultural Products\n",
            "Tapers\n",
            "Helpers--Pipelayers, Plumbers, Pipefitters, and Steamfitters\n",
            "Slaughterers and Meat Packers\n",
            "Cutters and Trimmers, Hand\n",
            "Painting, Coating, and Decorating Workers\n",
            "Helpers--Production Workers\n",
            "Laborers and Freight, Stock, and Material Movers, Hand\n",
            "done\n"
          ]
        }
      ]
    },
    {
      "cell_type": "code",
      "source": [
        "import requests\n",
        "from geopy.distance import geodesic\n",
        "\n",
        "UserAddress = '86 Jarwick Dr, Scarborough, Toronto, ON, Canada'\n",
        "\n",
        "url = f'https://nominatim.openstreetmap.org/search?q={address}&format=json'\n",
        "\n",
        "response = requests.get(url).json()\n",
        "\n",
        "latitude = float(response[0]['lat'])\n",
        "longitude = float(response[0]['lon'])\n",
        "homelocation = (latitude, longitude)\n",
        "\n",
        "\n",
        "EmployersNameDatabase = ['Google', 'Microsoft', 'Spotify', 'LinkedIn', 'Apple', 'Netflix', 'Indeed', 'Bell', 'TD', 'RBC'] #Names of employers corresponding to jobs in JobDatabase (same index)\n",
        "JobDatabase = ['Helpers--Painters, Paperhangers, Plasterers, and Stucco Masons', 'Dishwashers', 'Models', 'Graders and Sorters, Agricultural Products', 'Tapers', 'Helpers--Pipelayers, Plumbers, Pipefitters, and Steamfitters', 'Slaughterers and Meat Packers', 'Cutters and Trimmers, Hand', 'Painting, Coating, and Decorating Workers', 'Helpers--Production Workers', 'Laborers and Freight, Stock, and Material Movers, Hand'] #All jobs here\n",
        "LocationDatabase = ['86 Jarwick Dr, Scarborough, Toronto, ON, Canada', '87 Jarwick Dr, Scarborough, Toronto, ON, Canada', '88 Jarwick Dr, Scarborough, Toronto, ON, Canada', '89 Jarwick Dr, Scarborough, Toronto, ON, Canada', '90 Jarwick Dr, Scarborough, Toronto, ON, Canada', '86 Jarwick Dr, Scarborough, Toronto, ON, Canada', '91 Jarwick Dr, Scarborough, Toronto, ON, Canada', '92 Jarwick Dr, Scarborough, Toronto, ON, Canada', '86 Jarwick Dr, Scarborough, Toronto, ON, Canada', '95 Jarwick Dr, Scarborough, Toronto, ON, Canada', 'Dubai Mall, Dubai, UAE'] #Locations here\n",
        "DistFromHome = [0 for i in range (len(Ranking))]\n",
        "print (DistFromHome)\n",
        "FinalEmployers = ['' for i in range (len(Ranking))]\n",
        "\n",
        "OldRanking = Ranking\n",
        "\n",
        "for i in range (len(SuggestedJobs)):\n",
        "  for j in range(len(JobDatabase)):\n",
        "    if SuggestedJobs[i] == JobDatabase[j]:\n",
        "      FinalEmployers[i] = EmployersNameDatabase[j]\n",
        "      JobAddress = LocationDatabase[j]\n",
        "      url1 = f'https://nominatim.openstreetmap.org/search?q={JobAddress}&format=json'\n",
        "      response1 = requests.get(url1).json()\n",
        "      location1 = (float(response1[0]['lat']), float(response1[0]['lon']))\n",
        "      distance = geodesic(homelocation, location1).km\n",
        "      DistFromHome[i] = distance\n",
        "\n",
        "def CheckCompleteChange(OldRanking, NewRanking):\n",
        "  for i in range (len(OldRanking)):\n",
        "    for j in range (len(NewRanking)):\n",
        "      if OldRanking[i] == NewRanking[i]:\n",
        "        return False\n",
        "  return True\n",
        "\n",
        "print(DistFromHome)\n",
        "MinDist = 0.005\n",
        "R = 0.05\n",
        "while CheckCompleteChange(OldRanking, Ranking) == False:\n",
        "  #print(OldRanking)\n",
        "  #print(Ranking)\n",
        "  for i in range (len(DistFromHome)):\n",
        "    if DistFromHome[i] < MinDist:\n",
        "      Ranking[i] += R\n",
        "  MinDist = MinDist + 0.005\n",
        "  R = R - 5 \n",
        "\n",
        "NewRanking = Ranking.sort(reverse=True)\n",
        "for i in range (len(NewRanking)):\n",
        "  EmployerIndex = Ranking.index(NewRanking[i])\n",
        "  print(FinalEmployers[EmployerIndex], \" --- \", NewRanking[i])\n",
        "  \n",
        "\n",
        "\n",
        "\n",
        "    \n"
      ],
      "metadata": {
        "colab": {
          "base_uri": "https://localhost:8080/",
          "height": 401
        },
        "id": "bfMUJUr3SJh0",
        "outputId": "0adfe565-fe26-47de-8e89-83ab977b601c"
      },
      "execution_count": 55,
      "outputs": [
        {
          "output_type": "stream",
          "name": "stdout",
          "text": [
            "[0, 0, 0, 0, 0]\n",
            "[0.0, 0.025749082451130202, 0.01637164790708778, 0.037595912326294334, 0.03274328096060091]\n"
          ]
        },
        {
          "output_type": "error",
          "ename": "KeyboardInterrupt",
          "evalue": "ignored",
          "traceback": [
            "\u001b[0;31m---------------------------------------------------------------------------\u001b[0m",
            "\u001b[0;31mKeyboardInterrupt\u001b[0m                         Traceback (most recent call last)",
            "\u001b[0;32m<ipython-input-55-3be73d26bcb4>\u001b[0m in \u001b[0;36m<module>\u001b[0;34m\u001b[0m\n\u001b[1;32m     43\u001b[0m \u001b[0mMinDist\u001b[0m \u001b[0;34m=\u001b[0m \u001b[0;36m0.005\u001b[0m\u001b[0;34m\u001b[0m\u001b[0;34m\u001b[0m\u001b[0m\n\u001b[1;32m     44\u001b[0m \u001b[0mR\u001b[0m \u001b[0;34m=\u001b[0m \u001b[0;36m0.05\u001b[0m\u001b[0;34m\u001b[0m\u001b[0;34m\u001b[0m\u001b[0m\n\u001b[0;32m---> 45\u001b[0;31m \u001b[0;32mwhile\u001b[0m \u001b[0mCheckCompleteChange\u001b[0m\u001b[0;34m(\u001b[0m\u001b[0mOldRanking\u001b[0m\u001b[0;34m,\u001b[0m \u001b[0mRanking\u001b[0m\u001b[0;34m)\u001b[0m \u001b[0;34m==\u001b[0m \u001b[0;32mFalse\u001b[0m\u001b[0;34m:\u001b[0m\u001b[0;34m\u001b[0m\u001b[0;34m\u001b[0m\u001b[0m\n\u001b[0m\u001b[1;32m     46\u001b[0m   \u001b[0;31m#print(OldRanking)\u001b[0m\u001b[0;34m\u001b[0m\u001b[0;34m\u001b[0m\u001b[0m\n\u001b[1;32m     47\u001b[0m   \u001b[0;31m#print(Ranking)\u001b[0m\u001b[0;34m\u001b[0m\u001b[0;34m\u001b[0m\u001b[0m\n",
            "\u001b[0;32m<ipython-input-55-3be73d26bcb4>\u001b[0m in \u001b[0;36mCheckCompleteChange\u001b[0;34m(OldRanking, NewRanking)\u001b[0m\n\u001b[1;32m     33\u001b[0m       \u001b[0mDistFromHome\u001b[0m\u001b[0;34m[\u001b[0m\u001b[0mi\u001b[0m\u001b[0;34m]\u001b[0m \u001b[0;34m=\u001b[0m \u001b[0mdistance\u001b[0m\u001b[0;34m\u001b[0m\u001b[0;34m\u001b[0m\u001b[0m\n\u001b[1;32m     34\u001b[0m \u001b[0;34m\u001b[0m\u001b[0m\n\u001b[0;32m---> 35\u001b[0;31m \u001b[0;32mdef\u001b[0m \u001b[0mCheckCompleteChange\u001b[0m\u001b[0;34m(\u001b[0m\u001b[0mOldRanking\u001b[0m\u001b[0;34m,\u001b[0m \u001b[0mNewRanking\u001b[0m\u001b[0;34m)\u001b[0m\u001b[0;34m:\u001b[0m\u001b[0;34m\u001b[0m\u001b[0;34m\u001b[0m\u001b[0m\n\u001b[0m\u001b[1;32m     36\u001b[0m   \u001b[0;32mfor\u001b[0m \u001b[0mi\u001b[0m \u001b[0;32min\u001b[0m \u001b[0mrange\u001b[0m \u001b[0;34m(\u001b[0m\u001b[0mlen\u001b[0m\u001b[0;34m(\u001b[0m\u001b[0mOldRanking\u001b[0m\u001b[0;34m)\u001b[0m\u001b[0;34m)\u001b[0m\u001b[0;34m:\u001b[0m\u001b[0;34m\u001b[0m\u001b[0;34m\u001b[0m\u001b[0m\n\u001b[1;32m     37\u001b[0m     \u001b[0;32mfor\u001b[0m \u001b[0mj\u001b[0m \u001b[0;32min\u001b[0m \u001b[0mrange\u001b[0m \u001b[0;34m(\u001b[0m\u001b[0mlen\u001b[0m\u001b[0;34m(\u001b[0m\u001b[0mNewRanking\u001b[0m\u001b[0;34m)\u001b[0m\u001b[0;34m)\u001b[0m\u001b[0;34m:\u001b[0m\u001b[0;34m\u001b[0m\u001b[0;34m\u001b[0m\u001b[0m\n",
            "\u001b[0;31mKeyboardInterrupt\u001b[0m: "
          ]
        }
      ]
    }
  ]
}